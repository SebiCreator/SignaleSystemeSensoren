{
 "cells": [
  {
   "cell_type": "markdown",
   "metadata": {},
   "source": [
    "    1. Aufnahme und Analyse eines Grauwertkeiles\n",
    "In diesem Versuch überprüfen wir, wie gut die Webcam am Arbeitsplatz einen stufenförmigen\n",
    "Grauwertverlauf aufnehmen kann. Da das aufgenommene Muster vorher bekannt ist, kann\n",
    "man anhand der Aufnahme die Wiedergabequalität messen. In unserem Fall sollte der\n",
    "Grauwert innerhalb jeder Stufe konstant sein. Die reale Aufnahme wird aber aufgrund von\n",
    "Bildfehlern und Sensorrauschen Abweichungen aufweisen.\n",
    "• Nehmen Sie den Grauwertkeil (im Labor vorhanden) mit der Webcam an Ihrem Arbeitsplatz so auf, dass er das gesamte Bildfeld ausfüllt, den Helligkeitsbereich möglichst gut\n",
    "ausschöpft und die Grauwertstufen parallel zu den Bildrändern verlaufen. Stellen Sie\n",
    "sicher, dass kein Teil des Grauwertkeils in der Hell- oder Dunkelsättigung verschwindet.\n",
    "Nutzen Sie zu diesem Zweck das Python-Paket OpenCV-Python. Ein Kurzanleitung zur\n",
    "Installation, zum Einlesen von Bildern und Veränderung der Belichtungsparameter der\n",
    "Kamera finden Sie in Moodle. Notieren Sie, welche Belichtungsparameter Sie eingestellt\n",
    "haben, und die Entfernung zwischen Kamera und Testbild. Stellen Sie sicher, dass Sie\n",
    "die Belichtungsparameter im Verlauf der Versuche nicht mehr verändern. Speichern Sie\n",
    "das Bild für die Weiterverarbeitung und für das Protokoll (Befehl: cv2.imwrite())\n",
    "im verlustfreien Format png ab (das sonst übliche JPEG-Format ist verlustbehaftet).\n",
    "\n",
    "• Schreiben Sie ein Pythonskript, dass das Bild einliest (Befehl: pyopencv.imread())\n",
    "und die einzelnen Grauwertstufen als Unterbilder aus dem Originalbild ausliest. Schauen\n",
    "Sie sich dazu nochmals das Thema Indizierung und Index Slicing aus der PythonEinführung an.\n",
    "Die Webcam liefert standardmäßig nur Farbbilder. Ein Farbbild können Sie mit der\n",
    "Funktion cv2.cvtColor() in ein Grauwertbild umwandeln. Anzeigen lässt sich das\n",
    "Bild bequem mit dem Befehl cv2.imshow(). Achten Sie darauf, dass die Unterbilder\n",
    "möglichst viele Pixel der jeweiligen Stufe umfassen, ohne die Stufenränder zu berühren.\n",
    "• Bestimmen Sie für jede Stufe den Mittelwert und die Standardabweichung der Grauwerte und tragen Sie diese in eine Tabelle ein. Die zugehörigen Befehle finden sich\n",
    "ebenfalls in der Python-Einführung.\n",
    "Ein wichtiges Detail: wir bestimmen hier nicht die Standardabweichung des Mittelwertes,\n",
    "sondern nur die normale Standardabweichung, denn uns interessiert hier nicht das\n",
    "Vertrauensintervall des Mittelwertes, sondern die Streuung der Messwerte. Damit\n",
    "können wir in der letzten Aufgabe die Qualität unserer Kalibrierung überprüfen.\n"
   ]
  },
  {
   "cell_type": "code",
   "execution_count": 26,
   "metadata": {},
   "outputs": [
    {
     "name": "stdout",
     "output_type": "stream",
     "text": [
      "Mittelwerte:\n",
      "[  0.          10.56133333  64.41571429 108.55638095 154.17861905]\n",
      "Standardabweichung:\n",
      "[ 0.         10.50216078  1.66348479  2.38873592  2.84709543]\n"
     ]
    }
   ],
   "source": [
    "import cv2\n",
    "import numpy as np\n",
    "import matplotlib.pyplot as plt\n",
    "\n",
    "#grauskalabild = cv2.imread(\"Bilder\\graustufe2.png\", cv2.COLOR_BGR2GRAY)\n",
    "#plt.imshow(grauskalabild, cmap=plt.get_cmap('gray'));\n",
    "grauskalabild = cv2.imread(f\"Bilder\\graustufe2.png\", cv2.IMREAD_GRAYSCALE)\n",
    "#grauskalabild = grauskalabild[50:, :]\n",
    "#cv2.imshow('Grauwertkeil.png', grauskalabild)\n",
    "\n",
    "grey = []\n",
    "grey.append(grauskalabild[10:430,0:50])\n",
    "grey.append(grauskalabild[10:430,100:150])\n",
    "grey.append(grauskalabild[10:430,250:300])\n",
    "grey.append(grauskalabild[10:430,420:470])\n",
    "grey.append(grauskalabild[10:430,570:620])\n",
    "#cv2.imshow('test',grauskalabild[10:430,0:50])\n",
    "\n",
    "#plt.imshow(grey[0], cmap=plt.get_cmap('gray'))\n",
    "#np.array(grey[1]).shape\n",
    "mean = []\n",
    "for i in range(0,5):\n",
    "    mean.append(np.mean(grey[i]))\n",
    "mean = np.array(mean)\n",
    "\n",
    "std = []\n",
    "for i in range(0,5):\n",
    "    std.append(np.std(grey[i]))\n",
    "std = np.array(std)\n",
    "\n",
    "print(\"Mittelwerte:\")\n",
    "print(mean)\n",
    "print(\"Standardabweichung:\")\n",
    "print(std)"
   ]
  },
  {
   "cell_type": "markdown",
   "metadata": {},
   "source": [
    "    2. Aufnahme eines Dunkelbildes\n",
    "Nicht jeder Pixel einer Kamera liefert den Grauwert 0, wenn der Sensor abgedeckt ist. Das liegt\n",
    "zum einen am thermischen Rauschen der Ausleseelektronik, zum anderen am sogenannten\n",
    "Dunkelstrom, das aufgrund von Fertigungstoleranzen und von spontan durch Wärmezufuhr\n",
    "entstehenden Ladungsträgerpaaren zu einem leicht unterschiedlichen Nullpunkt jedes Pixels\n",
    "führt. Diesen pixelweisen Offset kann man durch Erstellung eines Dunkelbildes eliminieren,\n",
    "den man von jeder Aufnahme subtrahiert. Dadurch wird ein Großteil des Rauschens aus der\n",
    "Aufnahme entfernt. Achtung: der Offset jedes Pixels hängt stark von der Belichtungszeit ab,\n",
    "d.h. im Prinzip braucht man für jede unterschiedliche Belichtungszeit ein eigenes Dunkelbild!\n",
    "Deshalb ist es wichtig, bei der Aufnahme des Dunkelbildes die Belichtungsparameter konstant\n",
    "auf den gleichen Wert der zu korrigierenden Aufnahme zu stellen. Vom Gesichtspunkt der\n",
    "Kalibrierung her bestimmen wir mit dem Dunkelbild alle Nullpunkte jeden einzelnen Pixels\n",
    "des gesamtem Sensors.\n",
    "\n",
    "Vorgehensweise:\n",
    "• Stellen Sie die Belichtungsparameter genau gleich wie bei der Aufnahme des Grauwertkeiles ein. Decken Sie das Objektiv der Kamera so ab, dass das Bild komplett schwarz\n",
    "wird. Machen Sie 10 Aufnahmen.\n",
    "• Schreiben Sie ein Pythonskript, dass die 10 Bilder einliest, in double umwandelt, die\n",
    "Farbbilder in Grauwertbilder umrechnet und ihren pixelweisen Mittelwert berechnet.\n",
    "Sie erhalten also nicht einen einzigen Mittelwert wie in Aufgabe 1, sondern ein ganzes\n",
    "Bild von Mittelwerten in derselben Größe wie die Einzelaufnahmen. Auf diese Weise\n",
    "wird das thermische Ausleserauschen eliminiert, es bleibt nur noch der Offset bzw. der\n",
    "Dunkelstrom jedes Pixels übrig. Das Mittelwertbild ist das Dunkelbild für die von\n",
    "Ihnen gewählte Belichtungszeit. Stellen Sie das Dunkelbild kontrastmaximiert dar und\n",
    "nehmen Sie es in das Protokoll auf.\n",
    "• Schreiben Sie ein Pythonskript, dass das Dunkelbild einliest, von einem Eingabebild\n",
    "subtrahiert und das korrigierte Bild abspeichert. Wir werden das Programm dann in\n",
    "den folgenden Aufgaben erweitern."
   ]
  },
  {
   "cell_type": "code",
   "execution_count": 27,
   "metadata": {},
   "outputs": [
    {
     "name": "stdout",
     "output_type": "stream",
     "text": [
      "(10, 480, 640)\n",
      "(480, 640)\n",
      "(480, 640)\n"
     ]
    },
    {
     "data": {
      "text/plain": [
       "True"
      ]
     },
     "execution_count": 27,
     "metadata": {},
     "output_type": "execute_result"
    }
   ],
   "source": [
    "dunkelbild = []\n",
    "for i in range(0,10):\n",
    "    dunkelbild.append(cv2.imread(f\"Bilder\\Dunkelbild{i}.png\", cv2.COLOR_BGR2GRAY))\n",
    "dunkelbild = np.array(dunkelbild, dtype = np.float64)\n",
    "print(dunkelbild.shape)\n",
    "dunkelbildmean = np.mean(dunkelbild, axis=0)\n",
    "print(dunkelbildmean.shape)\n",
    "print(grauskalabild.shape)\n",
    "#dunkelbildmean.shape\n",
    "#plt.imshow(dunkelbildmean, cmap=plt.get_cmap('gray'))\n",
    "#dunkelbild_kontrastmax = cv2.equalizeHist(dunkelbildmean.astype('uint8'))\n",
    "alpha = 1.5 # Contrast control (1.0-3.0)\n",
    "beta = 0 # Brightness control (0-100)\n",
    "\n",
    "dunkelbild_kontrastmax = cv2.convertScaleAbs(dunkelbildmean, alpha=alpha, beta=beta)\n",
    "grauwertkeil = grauskalabild - dunkelbildmean\n",
    "cv2.imwrite(\"dunkelbild_kontrastmax.png\", dunkelbild_kontrastmax)\n",
    "cv2.imwrite(\"dunkelbild_mean.png\", dunkelbildmean)\n",
    "cv2.imwrite(\"Grauwertkeil_-dunkelbild.png\", grauwertkeil)"
   ]
  },
  {
   "cell_type": "markdown",
   "metadata": {},
   "source": [
    "    3. Aufnahme eines Weißbildes\n",
    "Obwohl die einzelnen Pixel einer Kamera eine hervorragende Linearität mit der Beleuchtungsstärke aufweisen, ist ihre Sensitivität aufgrund von Fertigungstoleranzen nicht völlig\n",
    "gleich. Zusätzlich kommt noch die sogenannte Vignettierung hinzu, d.h. die Optik der Kamera\n",
    "übeträgt die Helligkeit nicht gleichmäßig auf den Sensor. Typischerweise findet man eine\n",
    "Abdunkelung des Bildes zu den Rändern hin. Zur Kompensation dieser Effekte nimmt man\n",
    "ein sogenanntes Weißbild auf. Dazu braucht man eine möglichst homogene Fläche, z.B. ein\n",
    "Blatt Papier oder den wolkenlosen Himmel. Durch Division durch das Weissbild kann man\n",
    "die unterschiedlichen Sensitivitäten der einzelnen Pixel herausrechnen. Leider hängt das\n",
    "Weißbild vom eingestellten Fokus des Kameraobjektives ab, d.h. im Prinzip braucht man für\n",
    "jede Fokuseinstellung ein eigenes Weißbild. In unserem Fall bedeutet das, dass das Weißbild\n",
    "in der gleichen Entfernung wie das zu korrigierende Bild aufgenommen werden muss.\n",
    "Vom Gesichtspunkt der Kalibrierung her nehmen wir mit dem Weißbild einen zweiten Punkt\n",
    "der Kennlinie jeden einzelnen Pixels auf. Zusammen mit dem Dunkelbild haben wir damit\n",
    "die Kennlinie für alle Pixel gleichzeitig und eindeutig bestimmt: wir wissen an jeder Stelle des\n",
    "Bildes die Steigung und den Nullpunkt und können durch Subtraktion des Dunkelbildes und\n",
    "Division durch das Weißbild die tatsächliche Intensität des einfallenden Lichtes bestimmen.\n",
    "Vorgehensweise:\n",
    "• Nehmen Sie ein leeres Blatt Papier in der gleichen Entfernung wie das Testbild auf.\n",
    "Achten Sie darauf, die Belichtung auf 30-50% der Hellsättigung einzustellen. Wichtig\n",
    "ist auch, dass die Helligkeit des Blattes so gleichmäßig wie möglich ist, also keine\n",
    "Schatten oder unterschiedlich helle Beleuchtung. Machen Sie auch hier 10 Aufnahmen\n",
    "zur Elimination des thermischen Rauschens.\n",
    "• Schreiben Sie ein Pythonskript, dass die 10 Bilder einliest und ihren Mittelwert\n",
    "berechnet. Subtrahieren Sie von dem Mittelwertbild das Dunkelbild und speichern Sie\n",
    "das resultierende Weißbild ab. Stellen Sie das Weißbild kontrastmaximiert dar und\n",
    "nehmen Sie es in das Protokoll auf.\n",
    "• Erweitern Sie das Pythonskript zur Subtraktion des Dunkelbildes aus Aufgabe 2 so,\n",
    "dass das Weißbild eingelesen, in double umgewandelt wird und so normiert wird, dass\n",
    "sein Mittelwert 1 ist. Das durch Abzug des Dunkelbildes korrigierte Eingangsbild wird\n",
    "anschliessend durch das normierte Weißbild dividiert."
   ]
  },
  {
   "cell_type": "code",
   "execution_count": 28,
   "metadata": {},
   "outputs": [
    {
     "data": {
      "text/plain": [
       "True"
      ]
     },
     "execution_count": 28,
     "metadata": {},
     "output_type": "execute_result"
    }
   ],
   "source": [
    "weißbild = []\n",
    "for i in range(1,11):\n",
    "    weißbild.append(cv2.imread(f\"Bilder\\weisbild{i}.png\", cv2.IMREAD_GRAYSCALE))\n",
    "weißbild = np.array(weißbild, dtype = np.float64)\n",
    "weißbildmean = np.mean(weißbild, axis=0)\n",
    "weißbildmean = weißbildmean - dunkelbildmean\n",
    "#plt.imshow(weißbildmean, cmap=plt.get_cmap('gray'))\n",
    "w = np.mean(weißbildmean)\n",
    "weißbildmean = weißbildmean / w\n",
    "cv2.imwrite(\"weißbild_mean.png\", weißbildmean)\n",
    "\n",
    "#weißbild_kontrastmax = cv2.equalizeHist(weißbildmean.astype('uint8'))\n",
    "alpha = 1.5 # Contrast control (1.0-3.0)\n",
    "beta = 0 # Brightness control (0-100)\n",
    "\n",
    "weißbild_kontrastmax = cv2.convertScaleAbs(weißbildmean, alpha=alpha, beta=beta)\n",
    "cv2.imwrite(\"weißbild_kontrastmax.png\", weißbild_kontrastmax)\n",
    "\n",
    "grauwertkeil = grauwertkeil / weißbildmean\n",
    "cv2.imwrite(\"Grauwertkeil_-dunkelbild_divweißbild.png\", grauwertkeil)"
   ]
  },
  {
   "cell_type": "markdown",
   "metadata": {},
   "source": [
    "    4. Pixelfehler\n",
    "Je nach Qualität des Bildsensors entstehen beim Fertigungsprozess eine Anzahl von funktionsuntüchtigen Pixeln. Es gibt dead pixels, die immer auf ihrem niedrigsten Wert steckenbleiben,\n",
    "stuck pixels, die immer auf ihrem Maximalwert bleiben, und sogenannte hot pixels, die bei\n",
    "längeren Belichtungszeiten in die Sättigung gehen. Stuck und hot pixels entdeckt man am\n",
    "einfachsten im Dunkelbild, bei dem diese Pixel als helle Punkte auffallen. Dead Pixels findet\n",
    "man im Weißbild, wo sie als dunkle Punkte auffallen. Je nach Anwendung werden diese\n",
    "Pixelwerte im zu korrigierenden Bild durch Interpolation aus ihren Nachbarwerten ersetzt,\n",
    "so dass sie nicht mehr auffallen.\n",
    "Vorgehensweise:\n",
    "• Überprüfen Sie Ihr Dunkelbild auf dem Bildschirm auf stuck und hot pixels und Ihr\n",
    "Weißbild auf dead pixels. Markieren Sie diese im Bild und fügen es ins Protokoll ein.\n",
    "• Korrigieren Sie mithilfe Ihres Programms aus Aufgabe 3 das Bild des Grauwertkeils\n",
    "aus Aufgabe 1, speichern Sie es ab und bauen Sie es in Ihr Protokoll ein.\n",
    "• Werten Sie nun erneut das korrigierte Bild aus Aufgabe 4 mit diesem Programm aus und\n",
    "erstellen Sie die zugehörige Tabelle wie in Aufgabe 1. Ergibt sich eine Verbesserung?\n"
   ]
  },
  {
   "cell_type": "code",
   "execution_count": 29,
   "metadata": {},
   "outputs": [],
   "source": [
    "deadpixel = np.argwhere(weißbild_kontrastmax[:, :] == 0)\n",
    "stuckpixel = np.argwhere(dunkelbild_kontrastmax[:, :] == 255)\n",
    "stuckpixelbild = grauskalabild.copy()\n",
    "\n",
    "# cv2 drawfunktion die die pixel aufmalt\n",
    "for (x, y) in stuckpixel:\n",
    "    stuckpixelbild = cv2.circle(img=stuckpixelbild, center=(y, x), radius=1, color=(255, 0, 0))\n",
    "\n",
    "\n",
    "cv2.imwrite(\"stuckpixelbild.png\", stuckpixelbild)\n",
    "\n",
    "deadpixelbild = grauskalabild.copy()\n",
    "for (x, y) in deadpixel:\n",
    "    deadpixelbild = cv2.circle(img=deadpixelbild , center=(y, x), radius=1, color=(0, 0, 255))\n",
    "cv2.imwrite(\"deadpixelbild.png\", deadpixelbild);"
   ]
  },
  {
   "cell_type": "code",
   "execution_count": 30,
   "metadata": {},
   "outputs": [
    {
     "name": "stdout",
     "output_type": "stream",
     "text": [
      "Mittelwerte:\n",
      "[  0.          10.56133333  64.41571429 108.55638095 154.17861905]\n",
      "Standardabweichung:\n",
      "[ 0.         10.50216078  1.66348479  2.38873592  2.84709543]\n",
      "Mittelwerte korrigiertes Bild:\n",
      "[  0.28353982  14.42401552  62.22354615 107.16683718 140.55299634]\n",
      "Standardabweichung korrigiertes Bild:\n",
      "[ 2.46410115  9.53170039  1.71496627  3.52672566 26.11821603]\n"
     ]
    }
   ],
   "source": [
    "grey_corrected = []\n",
    "grey_corrected.append(grauwertkeil[20:460, 10:80])\n",
    "grey_corrected.append(grauwertkeil[20:460, 110:180])\n",
    "grey_corrected.append(grauwertkeil[20:460, 250:320])\n",
    "grey_corrected.append(grauwertkeil[20:460, 400:470])\n",
    "grey_corrected.append(grauwertkeil[20:460, 530:600])\n",
    "\n",
    "mean_corrected = []\n",
    "for i in range(0,5):\n",
    "    mean_corrected.append(np.mean(grey_corrected[i]))\n",
    "mean_corrected = np.array(mean_corrected)\n",
    "\n",
    "std_corrected = []\n",
    "for i in range(0,5):\n",
    "    std_corrected.append(np.std(grey_corrected[i]))\n",
    "std_corrected = np.array(std_corrected)\n",
    "\n",
    "print(\"Mittelwerte:\")\n",
    "print(mean)\n",
    "print(\"Standardabweichung:\")\n",
    "print(std)\n",
    "print(\"Mittelwerte korrigiertes Bild:\")\n",
    "print(mean_corrected)\n",
    "print(\"Standardabweichung korrigiertes Bild:\")\n",
    "print(std_corrected)"
   ]
  }
 ],
 "metadata": {
  "interpreter": {
   "hash": "9e49e9e5b94ffbcf92b38e6bbae369d81093e2039295ffe956729ef7e2f8d3e1"
  },
  "kernelspec": {
   "display_name": "Python 3",
   "language": "python",
   "name": "python3"
  },
  "language_info": {
   "codemirror_mode": {
    "name": "ipython",
    "version": 3
   },
   "file_extension": ".py",
   "mimetype": "text/x-python",
   "name": "python",
   "nbconvert_exporter": "python",
   "pygments_lexer": "ipython3",
   "version": "3.9.4"
  }
 },
 "nbformat": 4,
 "nbformat_minor": 2
}
