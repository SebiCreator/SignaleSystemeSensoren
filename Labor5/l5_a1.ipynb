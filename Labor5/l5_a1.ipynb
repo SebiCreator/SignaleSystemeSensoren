{
 "cells": [
  {
   "cell_type": "markdown",
   "metadata": {},
   "source": [
    "1. Programmierung der AD/DA-Wandlerkarte\n",
    "\n",
    "• Erstellen Sie ein Pythonskript zum Auslesen einer Reihe von Werten aus der Karte und ihrer\n",
    "Darstellung."
   ]
  },
  {
   "cell_type": "code",
   "execution_count": null,
   "metadata": {},
   "outputs": [],
   "source": [
    "import redlab as rl\n",
    "import matplotlib.pyplot as plt"
   ]
  },
  {
   "cell_type": "code",
   "execution_count": null,
   "metadata": {},
   "outputs": [],
   "source": [
    "AtoD = rl.cbAIn(0,0,1)\n",
    "AtoDReihe = rl.cbAInScan(0,0,0,300,8000,1)\n",
    "AtoSpannung = rl.cbVIn(0,0,1)\n",
    "AtoSpannungReihe = rl.cbVInScan(0,0,0,300,8000,1)"
   ]
  },
  {
   "cell_type": "code",
   "execution_count": null,
   "metadata": {},
   "outputs": [],
   "source": [
    "print(AtoD)\n",
    "print(AtoSpannung)"
   ]
  },
  {
   "cell_type": "code",
   "execution_count": null,
   "metadata": {},
   "outputs": [],
   "source": [
    "plt.plot(AtoDReihe)\n",
    "plt.savefig(\"AtoDReihe\")"
   ]
  },
  {
   "cell_type": "code",
   "execution_count": null,
   "metadata": {},
   "outputs": [],
   "source": [
    "plt.plot(AtoSpannungReihe)\n",
    "plt.savefig(\"AtoSpannungReihe\")"
   ]
  },
  {
   "cell_type": "markdown",
   "metadata": {},
   "source": [
    "• Als Nächstes schreiben Sie eine Funktion, die eine Konsoleneingabe auf die Karte ausgibt.\n",
    "Überprüfen Sie die Funktion mit dem Messgerät."
   ]
  },
  {
   "cell_type": "code",
   "execution_count": null,
   "metadata": {},
   "outputs": [],
   "source": [
    "def is_float(value):\n",
    "  try:\n",
    "    float(value)\n",
    "    return True\n",
    "  except:\n",
    "    return False\n",
    "\n",
    "input = input()\n",
    "while (input != \"exit\"):\n",
    "    if is_float(input) and float(input) <= 5.0:\n",
    "        rl.cbVOut(0,0,101, float(input))\n",
    "    input = input()\n"
   ]
  }
 ],
 "metadata": {
  "interpreter": {
   "hash": "9e49e9e5b94ffbcf92b38e6bbae369d81093e2039295ffe956729ef7e2f8d3e1"
  },
  "kernelspec": {
   "display_name": "Python 3.8.8 64-bit ('base': conda)",
   "language": "python",
   "name": "python3"
  },
  "language_info": {
   "name": "python",
   "version": "3.8.8"
  },
  "orig_nbformat": 4
 },
 "nbformat": 4,
 "nbformat_minor": 2
}
