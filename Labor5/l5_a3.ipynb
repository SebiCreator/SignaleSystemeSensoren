{
 "cells": [
  {
   "cell_type": "markdown",
   "metadata": {},
   "source": [
    "3. Genauigkeit der DA-Wandlung\n",
    "\n",
    "Messaufgaben:\n",
    "• Berechnen Sie den theoretischen Quantisierungsfehler des 10-Bit-DA-Wandlers (0 V . . . 5 V )"
   ]
  },
  {
   "cell_type": "code",
   "execution_count": 6,
   "metadata": {},
   "outputs": [],
   "source": [
    "import numpy as np\n",
    "import matplotlib.pyplot as plt"
   ]
  },
  {
   "cell_type": "code",
   "execution_count": 7,
   "metadata": {},
   "outputs": [
    {
     "name": "stdout",
     "output_type": "stream",
     "text": [
      "theor. Quantisierungsfehler D/A-Wander: 4.8828125mV\n"
     ]
    }
   ],
   "source": [
    "deltaUda = 5 / 2**10\n",
    "print(\"theor. Quantisierungsfehler D/A-Wander: \" + str(deltaUda * 1e3) + \"mV\")"
   ]
  },
  {
   "cell_type": "markdown",
   "metadata": {},
   "source": [
    "• Benutzen Sie Ihr Konsoleneingabeprogramm und geben Sie Werte von 0.5 - 5 V in 0.5-VSchritten aus. Messen Sie mit dem Oszilloskop nach und tragen Sie die Ergebnisse in eine\n",
    "Tabelle ein."
   ]
  },
  {
   "cell_type": "code",
   "execution_count": 8,
   "metadata": {},
   "outputs": [],
   "source": [
    "data = np.genfromtxt(\"messung_a2.txt\", delimiter=';', skip_header=1, usecols=())\n",
    "spannung_da = data[:, 0]\n",
    "feinmessgeraet = data[:, 1]\n",
    "multimeter = data[:, 2]\n",
    "picoscope = data[:, 3]"
   ]
  },
  {
   "cell_type": "markdown",
   "metadata": {},
   "source": [
    "• Bestimmen Sie wie in Aufgabe 2 die Standardabweichung und vergleichen Sie den Fehler mit\n",
    "dem theoretisch berechneten Quantisierungsfehler."
   ]
  },
  {
   "cell_type": "code",
   "execution_count": 11,
   "metadata": {},
   "outputs": [
    {
     "name": "stdout",
     "output_type": "stream",
     "text": [
      "Messfehler Feinmessgerät zu Eingabe: 30.094296248071064mV\n",
      "Messfehler Multimeter zu Eingabe: 30.094296248071064mV\n",
      "Messfehler Picoscope zu Eingabe: 30.094296248071064mV\n",
      "Verhältnis Messfehler zu theor. QF: 6.163311871604954\n"
     ]
    }
   ],
   "source": [
    "messfehler = spannung_da - feinmessgeraet\n",
    "messfehler_multimeter = spannung_da - multimeter\n",
    "messfehler_picoscope = spannung_da - picoscope\n",
    "\n",
    "faktor = 1 / 9\n",
    "std = np.sqrt(faktor * np.sum(messfehler**2))\n",
    "std_multimeter = np.sqrt(faktor * np.sum(messfehler_multimeter**2))\n",
    "std_picoscope = np.sqrt(faktor * np.sum(messfehler_picoscope**2))\n",
    "print(\"Messfehler Feinmessgerät zu Eingabe: \" + str(std * 1e3) + \"mV\")\n",
    "print(\"Messfehler Multimeter zu Eingabe: \" + str(std_multimeter * 1e3) + \"mV\")\n",
    "print(\"Messfehler Picoscope zu Eingabe: \" + str(std_picoscope * 1e3) + \"mV\")\n",
    "print(\"Verhältnis Messfehler zu theor. QF: \" + str(std / deltaUda))"
   ]
  }
 ],
 "metadata": {
  "interpreter": {
   "hash": "9e49e9e5b94ffbcf92b38e6bbae369d81093e2039295ffe956729ef7e2f8d3e1"
  },
  "kernelspec": {
   "display_name": "Python 3.8.8 64-bit ('base': conda)",
   "language": "python",
   "name": "python3"
  },
  "language_info": {
   "codemirror_mode": {
    "name": "ipython",
    "version": 3
   },
   "file_extension": ".py",
   "mimetype": "text/x-python",
   "name": "python",
   "nbconvert_exporter": "python",
   "pygments_lexer": "ipython3",
   "version": "3.8.8"
  },
  "orig_nbformat": 4
 },
 "nbformat": 4,
 "nbformat_minor": 2
}
