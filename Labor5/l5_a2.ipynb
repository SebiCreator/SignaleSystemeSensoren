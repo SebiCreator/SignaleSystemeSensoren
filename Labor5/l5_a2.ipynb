{
 "cells": [
  {
   "cell_type": "markdown",
   "metadata": {},
   "source": [
    "Messaufgaben:\n",
    "• Die Genauigkeit eines Messdatenerfassungssystems hängt in hohem Maße von der Anzahl\n",
    "von Bits ab, mit denen das analoge Eingangssignal dargestellt wird. Die Genauigkeit der ADWandlung mit n Bit ist das Verhältnis von einem LSB zur Gesamtzahl der darstellbaren Bits\n",
    "Genauigkeit =\n",
    "1\n",
    "2\n",
    "n\n",
    ".\n",
    "Die Genauigkeit in Volt (der theoretische Quantisierungsfehler) ergibt sich aus der minimalen\n",
    "und maximalen Eingangsspannung Umin bzw. Umax als\n",
    "∆U =\n",
    "Umax − Umin\n",
    "2\n",
    "n\n",
    ".\n",
    "Berechnen Sie den theoretischen Quantisierungsfehler des 11-Bit-AD-Wandlers (−10 V . . . 10 V ).\n"
   ]
  },
  {
   "cell_type": "code",
   "execution_count": 8,
   "metadata": {},
   "outputs": [],
   "source": [
    "import numpy as np\n",
    "import matplotlib.pyplot as plt"
   ]
  },
  {
   "cell_type": "code",
   "execution_count": 21,
   "metadata": {},
   "outputs": [
    {
     "name": "stdout",
     "output_type": "stream",
     "text": [
      "Quantisierungsfehler: 4.39453125mV\n"
     ]
    }
   ],
   "source": [
    "Umax = 10\n",
    "Umin = -10\n",
    "n = 11\n",
    "deltaU = (Umax - Umin) / 2**n\n",
    "print(\"Quantisierungsfehler: \" + str(deltaU * 1e3) + \"mV\")"
   ]
  },
  {
   "cell_type": "markdown",
   "metadata": {},
   "source": [
    "• Variieren Sie die Spannung einer Gleichspannungsquelle von 1−10V in Schritten von 1V . Messen Sie die Spannung mit dem hochgenauen Feinmessgerät Keithley TRMS 179, dem analogen\n",
    "Multimeter Philips PM 2503 und mit dem AD-Wandler und tragen die Werte in eine Tabelle\n",
    "ein.\n",
    "• Berechnen Sie für jeden Tabelleneintrag den Messfehler ei = Ui,ref −Ui für das Multimeter und\n",
    "den AD-Wandler, wobei die Werte des Feinmessgeräts als Referenz Ui,ref genommen werden.\n",
    "Bestimmen Sie daraus die Standardabweichungen der beiden Geräte als Genauigkeitsmaß\n",
    "S =\n",
    "vuut\n",
    "1\n",
    "n − 1\n",
    "Xn\n",
    "i=1\n",
    "e\n",
    "2\n",
    "i =\n",
    "vuut\n",
    "1\n",
    "n − 1\n",
    "Xn\n",
    "i=1\n",
    "(Ui,ref − Ui)\n",
    "2,\n",
    "wobei n die Anzahl der Messwerte ist. Diskutieren Sie die Ergebnisse."
   ]
  },
  {
   "cell_type": "code",
   "execution_count": 19,
   "metadata": {},
   "outputs": [
    {
     "name": "stdout",
     "output_type": "stream",
     "text": [
      "Std von Multimeter: 3.0000000000000973mV\n",
      "Std von A/D-Wandler: 7.8469224300524845mV\n",
      "Std von Picoscope: 23.75102336976485mV\n"
     ]
    }
   ],
   "source": [
    "data = np.genfromtxt(\"messung_a2.txt\", delimiter=';', skip_header=1, usecols=())\n",
    "data.shape\n",
    "spannung = data[:, 0]\n",
    "feinmessgeraet = data[:, 1]\n",
    "multimeter = data[:, 2]\n",
    "adwandler = data[:, 3]\n",
    "picoscope = data[:, 4]\n",
    "\n",
    "messfehler_multimeter = feinmessgeraet - multimeter\n",
    "messfehler_adwandler = feinmessgeraet - adwandler\n",
    "messfehler_picoscope = feinmessgeraet - picoscope\n",
    "\n",
    "faktor = 1 / 9\n",
    "std_multimeter = np.sqrt(faktor * np.sum(messfehler_multimeter**2))\n",
    "std_adwandler = np.sqrt(faktor * np.sum(messfehler_adwandler**2))\n",
    "std_picoscope = np.sqrt(faktor * np.sum(messfehler_picoscope**2))\n",
    "\n",
    "print(\"Std von Multimeter: \" + str(std_multimeter * 1e3) + \"mV\")\n",
    "print(\"Std von A/D-Wandler: \" + str(std_adwandler * 1e3) + \"mV\")\n",
    "print(\"Std von Picoscope: \" + str(std_picoscope * 1e3) + \"mV\")"
   ]
  },
  {
   "cell_type": "code",
   "execution_count": 18,
   "metadata": {},
   "outputs": [
    {
     "data": {
      "text/plain": [
       "[<matplotlib.lines.Line2D at 0x24819ab7a60>]"
      ]
     },
     "execution_count": 18,
     "metadata": {},
     "output_type": "execute_result"
    },
    {
     "data": {
      "image/png": "[encoded data removed]",
      "text/plain": [
       "<Figure size 432x288 with 1 Axes>"
      ]
     },
     "metadata": {
      "needs_background": "light"
     },
     "output_type": "display_data"
    }
   ],
   "source": [
    "plt.plot(messfehler_adwandler)\n",
    "plt.plot(messfehler_multimeter)\n",
    "plt.plot(messfehler_picoscope)"
   ]
  }
 ],
 "metadata": {
  "interpreter": {
   "hash": "9e49e9e5b94ffbcf92b38e6bbae369d81093e2039295ffe956729ef7e2f8d3e1"
  },
  "kernelspec": {
   "display_name": "Python 3.8.8 64-bit ('base': conda)",
   "language": "python",
   "name": "python3"
  },
  "language_info": {
   "codemirror_mode": {
    "name": "ipython",
    "version": 3
   },
   "file_extension": ".py",
   "mimetype": "text/x-python",
   "name": "python",
   "nbconvert_exporter": "python",
   "pygments_lexer": "ipython3",
   "version": "3.8.8"
  },
  "orig_nbformat": 4
 },
 "nbformat": 4,
 "nbformat_minor": 2
}
