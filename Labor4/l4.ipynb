{
 "cells": [
  {
   "cell_type": "code",
   "execution_count": 38,
   "metadata": {},
   "outputs": [],
   "source": [
    "import numpy as np\n",
    "import matplotlib.pyplot as plt"
   ]
  },
  {
   "cell_type": "code",
   "execution_count": 39,
   "metadata": {},
   "outputs": [
    {
     "data": {
      "text/plain": [
       "[<matplotlib.lines.Line2D at 0x229c8e76dc0>]"
      ]
     },
     "execution_count": 39,
     "metadata": {},
     "output_type": "execute_result"
    },
    {
     "data": {
      "image/png": "[encoded data removed]",
      "text/plain": [
       "<Figure size 432x288 with 1 Axes>"
      ]
     },
     "metadata": {
      "needs_background": "light"
     },
     "output_type": "display_data"
    }
   ],
   "source": [
    "data = np.load(\"samples\\\\npy_sample_tief1.npy\")\n",
    "plt.plot(data)\n",
    "data2 = data[25000:]\n",
    "plt.plot(data2)\n",
    "for i in range(len(data2)):\n",
    "    if data2[i] >= 500:\n",
    "        idx = i\n",
    "        break\n",
    "data3 = data2[idx-1000:idx+43100]\n",
    "plt.plot(data3)"
   ]
  },
  {
   "cell_type": "code",
   "execution_count": 43,
   "metadata": {},
   "outputs": [
    {
     "name": "stdout",
     "output_type": "stream",
     "text": [
      "['npy_sample.npy', 'npy_sample_hoch1.npy', 'npy_sample_hoch2.npy', 'npy_sample_hoch3.npy', 'npy_sample_hoch4.npy', 'npy_sample_hoch5.npy', 'npy_sample_hoch6.npy', 'npy_sample_links1.npy', 'npy_sample_links2.npy', 'npy_sample_links3.npy', 'npy_sample_links4.npy', 'npy_sample_links5.npy', 'npy_sample_links6.npy', 'npy_sample_muh_hoch1.npy', 'npy_sample_muh_hoch2.npy', 'npy_sample_muh_hoch3.npy', 'npy_sample_muh_hoch4.npy', 'npy_sample_muh_hoch5.npy', 'npy_sample_muh_hoch6.npy', 'npy_sample_muh_links1.npy', 'npy_sample_muh_links2.npy', 'npy_sample_muh_links3.npy', 'npy_sample_muh_links4.npy', 'npy_sample_muh_links5.npy', 'npy_sample_muh_links6.npy', 'npy_sample_muh_rechts1.npy', 'npy_sample_muh_rechts2.npy', 'npy_sample_muh_rechts3.npy', 'npy_sample_muh_rechts4.npy', 'npy_sample_muh_rechts5.npy', 'npy_sample_muh_rechts6.npy', 'npy_sample_muh_tief1.npy', 'npy_sample_muh_tief2.npy', 'npy_sample_muh_tief3.npy', 'npy_sample_muh_tief4.npy', 'npy_sample_muh_tief5.npy', 'npy_sample_muh_tief6.npy', 'npy_sample_rechts1.npy', 'npy_sample_rechts2.npy', 'npy_sample_rechts3.npy', 'npy_sample_rechts4.npy', 'npy_sample_rechts5.npy', 'npy_sample_rechts6.npy', 'npy_sample_seb_hoch1.npy', 'npy_sample_seb_hoch2.npy', 'npy_sample_seb_hoch3.npy', 'npy_sample_seb_hoch4.npy', 'npy_sample_seb_hoch5.npy', 'npy_sample_seb_hoch6.npy', 'npy_sample_seb_links1.npy', 'npy_sample_seb_links2.npy', 'npy_sample_seb_links3.npy', 'npy_sample_seb_links4.npy', 'npy_sample_seb_links5.npy', 'npy_sample_seb_links6.npy', 'npy_sample_seb_rechts1.npy', 'npy_sample_seb_rechts2.npy', 'npy_sample_seb_rechts3.npy', 'npy_sample_seb_rechts4.npy', 'npy_sample_seb_rechts5.npy', 'npy_sample_seb_rechts6.npy', 'npy_sample_seb_tief1.npy', 'npy_sample_seb_tief2.npy', 'npy_sample_seb_tief3.npy', 'npy_sample_seb_tief4.npy', 'npy_sample_seb_tief5.npy', 'npy_sample_seb_tief6.npy', 'npy_sample_tief1.npy', 'npy_sample_tief2.npy', 'npy_sample_tief3.npy', 'npy_sample_tief4.npy', 'npy_sample_tief5.npy', 'npy_sample_tief6.npy']\n"
     ]
    }
   ],
   "source": [
    "import os\n",
    "print(os.listdir(\"samples\"))\n",
    "for filepath in os.listdir(\"samples\"):\n",
    "    data = np.load(f\"samples\\\\{filepath}\")\n",
    "    data2 = data[25000:]\n",
    "    for i in range(len(data2)):\n",
    "        if data2[i] >= 500:\n",
    "            idx = i\n",
    "            break\n",
    "    data3 = data2[idx-1000:idx+43100]\n",
    "    np.save(f\"samplescut\\\\{filepath}\", data3)\n",
    "    "
   ]
  }
 ],
 "metadata": {
  "interpreter": {
   "hash": "2fb26068bd0d1e0f8e0cb0471b51822d32bcef174b6ed9ec0f79e5a512585ab8"
  },
  "kernelspec": {
   "display_name": "Python 3.9.4 64-bit",
   "language": "python",
   "name": "python3"
  },
  "language_info": {
   "codemirror_mode": {
    "name": "ipython",
    "version": 3
   },
   "file_extension": ".py",
   "mimetype": "text/x-python",
   "name": "python",
   "nbconvert_exporter": "python",
   "pygments_lexer": "ipython3",
   "version": "3.9.4"
  },
  "orig_nbformat": 4
 },
 "nbformat": 4,
 "nbformat_minor": 2
}
